{
 "cells": [
  {
   "cell_type": "markdown",
   "metadata": {},
   "source": [
    "# Bedrock TPM Limit Testing: Absolute vs Relative Minutes\n",
    "\n",
    "This notebook tests whether AWS Bedrock's TPM (Tokens Per Minute) limits are based on:\n",
    "- **Absolute minutes**: Quota resets at the start of each clock minute (xx:00)\n",
    "- **Relative minutes**: Quota resets 60 seconds after first token usage\n",
    "\n",
    "## Test Plan\n",
    "1. Consume all 8,000 TPM at xx:35 seconds\n",
    "2. Make a 1000-token request before the minute ends (should get 429)\n",
    "3. Make a 1000-token request at yy:05 seconds (35 seconds later)\n",
    "4. Make a 1000-token request at yy:50 seconds\n",
    "5. Analyze results to determine the quota reset behavior"
   ]
  },
  {
   "cell_type": "code",
   "execution_count": 1,
   "metadata": {},
   "outputs": [
    {
     "name": "stdout",
     "output_type": "stream",
     "text": [
      "Initialized Bedrock TPM Tester for model: amazon.nova-pro-v1:0\n",
      "Current time: 13:17:59\n"
     ]
    }
   ],
   "source": [
    "import sys\n",
    "import time\n",
    "from datetime import datetime\n",
    "from utils import BedrockTPMTester\n",
    "\n",
    "# Initialize the tester\n",
    "tester = BedrockTPMTester(region_name='us-east-1')\n",
    "print(f\"Initialized Bedrock TPM Tester for model: {tester.model_id}\")\n",
    "print(f\"Current time: {datetime.now().strftime('%H:%M:%S')}\")"
   ]
  },
  {
   "cell_type": "markdown",
   "metadata": {},
   "source": [
    "## Step 1: Wait for xx:35 and Consume All TPM Quota"
   ]
  },
  {
   "cell_type": "code",
   "execution_count": 2,
   "metadata": {},
   "outputs": [
    {
     "name": "stdout",
     "output_type": "stream",
     "text": [
      "Waiting for xx:35 seconds...\n",
      "Starting quota consumption at: 13:18:35\n",
      "[13:18:35] Consume_batch_1: 1000 tokens -> 200\n",
      "[13:18:35] Consume_batch_2: 1000 tokens -> 200\n",
      "[13:18:36] Consume_batch_3: 1000 tokens -> 429\n",
      "  Error: An error occurred (ThrottlingException) when calling the Converse operation (reached max retries: 1): Too many requests, please wait before trying again.\n",
      "\n",
      "Total tokens consumed: 2000\n",
      "Consumption completed at: 13:18:36\n"
     ]
    }
   ],
   "source": [
    "# Wait until 35 seconds of the current minute\n",
    "print(\"Waiting for xx:35 seconds...\")\n",
    "tester.wait_until_second(35)\n",
    "\n",
    "start_time = datetime.now()\n",
    "print(f\"Starting quota consumption at: {start_time.strftime('%H:%M:%S')}\")\n",
    "\n",
    "# Consume 8000 tokens (our TPM limit) in chunks\n",
    "consume_results = tester.consume_tpm_quota(total_tokens=8000, chunk_size=1000)\n",
    "\n",
    "# Log the consumption results\n",
    "total_consumed = 0\n",
    "for i, result in enumerate(consume_results):\n",
    "    if result['status_code'] == 200:\n",
    "        total_consumed += result['tokens_requested']\n",
    "    tester.log_result(\n",
    "        f\"Consume_batch_{i+1}\",\n",
    "        datetime.fromisoformat(result['timestamp']),\n",
    "        result['tokens_requested'],\n",
    "        result['status_code'],\n",
    "        result['error']\n",
    "    )\n",
    "\n",
    "print(f\"\\nTotal tokens consumed: {total_consumed}\")\n",
    "print(f\"Consumption completed at: {datetime.now().strftime('%H:%M:%S')}\")"
   ]
  },
  {
   "cell_type": "markdown",
   "metadata": {},
   "source": [
    "## Step 2: Test Request Before Minute Ends (Should Get 429)"
   ]
  },
  {
   "cell_type": "code",
   "execution_count": 3,
   "metadata": {},
   "outputs": [
    {
     "name": "stdout",
     "output_type": "stream",
     "text": [
      "Making test request at: 13:18:37\n",
      "[13:18:37] Test_before_minute_end: 1000 tokens -> 429\n",
      "  Error: An error occurred (ThrottlingException) when calling the Converse operation (reached max retries: 1): Too many requests, please wait before trying again.\n",
      "Result: 429 (throttled)\n"
     ]
    }
   ],
   "source": [
    "# Make a test request before the minute ends\n",
    "current_time = datetime.now()\n",
    "print(f\"Making test request at: {current_time.strftime('%H:%M:%S')}\")\n",
    "\n",
    "status_code, error, response_time = tester.make_bedrock_request(1000)\n",
    "tester.log_result(\n",
    "    \"Test_before_minute_end\",\n",
    "    current_time,\n",
    "    1000,\n",
    "    status_code,\n",
    "    error\n",
    ")\n",
    "\n",
    "expected_result = \"429 (throttled)\" if status_code == 429 else f\"{status_code} (unexpected)\"\n",
    "print(f\"Result: {expected_result}\")"
   ]
  },
  {
   "cell_type": "markdown",
   "metadata": {},
   "source": [
    "## Step 3: Wait for yy:05 and Test Again"
   ]
  },
  {
   "cell_type": "code",
   "execution_count": 4,
   "metadata": {},
   "outputs": [
    {
     "name": "stdout",
     "output_type": "stream",
     "text": [
      "Waiting for yy:05 seconds (35 seconds after initial consumption)...\n",
      "Making test request at: 13:19:05\n",
      "[13:19:05] Test_at_next_minute_05: 1000 tokens -> 200\n",
      "✓ Request succeeded - suggests ABSOLUTE minute limits\n"
     ]
    }
   ],
   "source": [
    "# Wait until 5 seconds of the next minute\n",
    "print(\"Waiting for yy:05 seconds (35 seconds after initial consumption)...\")\n",
    "tester.wait_until_second(5)\n",
    "\n",
    "current_time = datetime.now()\n",
    "print(f\"Making test request at: {current_time.strftime('%H:%M:%S')}\")\n",
    "\n",
    "status_code, error, response_time = tester.make_bedrock_request(1000)\n",
    "tester.log_result(\n",
    "    \"Test_at_next_minute_05\",\n",
    "    current_time,\n",
    "    1000,\n",
    "    status_code,\n",
    "    error\n",
    ")\n",
    "\n",
    "if status_code == 200:\n",
    "    print(\"✓ Request succeeded - suggests ABSOLUTE minute limits\")\n",
    "elif status_code == 429:\n",
    "    print(\"✗ Request throttled - suggests RELATIVE minute limits\")\n",
    "else:\n",
    "    print(f\"? Unexpected status code: {status_code}\")"
   ]
  },
  {
   "cell_type": "markdown",
   "metadata": {},
   "source": [
    "## Step 4: Test at yy:50 (Should Always Succeed)"
   ]
  },
  {
   "cell_type": "code",
   "execution_count": 5,
   "metadata": {},
   "outputs": [
    {
     "name": "stdout",
     "output_type": "stream",
     "text": [
      "Waiting for yy:50 seconds...\n",
      "Making final test request at: 13:19:50\n",
      "[13:19:50] Test_at_minute_50: 1000 tokens -> 200\n",
      "✓ Request succeeded as expected (>60 seconds passed)\n"
     ]
    }
   ],
   "source": [
    "# Wait until 50 seconds of the current minute\n",
    "print(\"Waiting for yy:50 seconds...\")\n",
    "tester.wait_until_second(50)\n",
    "\n",
    "current_time = datetime.now()\n",
    "print(f\"Making final test request at: {current_time.strftime('%H:%M:%S')}\")\n",
    "\n",
    "status_code, error, response_time = tester.make_bedrock_request(1000)\n",
    "tester.log_result(\n",
    "    \"Test_at_minute_50\",\n",
    "    current_time,\n",
    "    1000,\n",
    "    status_code,\n",
    "    error\n",
    ")\n",
    "\n",
    "if status_code == 200:\n",
    "    print(\"✓ Request succeeded as expected (>60 seconds passed)\")\n",
    "else:\n",
    "    print(f\"✗ Unexpected result: {status_code}\")"
   ]
  },
  {
   "cell_type": "markdown",
   "metadata": {},
   "source": [
    "## Step 5: Results Summary and Analysis"
   ]
  },
  {
   "cell_type": "code",
   "execution_count": 6,
   "metadata": {},
   "outputs": [
    {
     "name": "stdout",
     "output_type": "stream",
     "text": [
      "\n",
      "================================================================================\n",
      "TEST SUMMARY\n",
      "================================================================================\n",
      "Test: Consume_batch_1\n",
      "  Time: 13:18:35 (minute 18, second 35)\n",
      "  Tokens: 1000\n",
      "  Status: 200\n",
      "\n",
      "Test: Consume_batch_2\n",
      "  Time: 13:18:35 (minute 18, second 35)\n",
      "  Tokens: 1000\n",
      "  Status: 200\n",
      "\n",
      "Test: Consume_batch_3\n",
      "  Time: 13:18:36 (minute 18, second 36)\n",
      "  Tokens: 1000\n",
      "  Status: 429\n",
      "  Error: An error occurred (ThrottlingException) when calling the Converse operation (reached max retries: 1): Too many requests, please wait before trying again.\n",
      "\n",
      "Test: Test_before_minute_end\n",
      "  Time: 13:18:37 (minute 18, second 37)\n",
      "  Tokens: 1000\n",
      "  Status: 429\n",
      "  Error: An error occurred (ThrottlingException) when calling the Converse operation (reached max retries: 1): Too many requests, please wait before trying again.\n",
      "\n",
      "Test: Test_at_next_minute_05\n",
      "  Time: 13:19:05 (minute 19, second 5)\n",
      "  Tokens: 1000\n",
      "  Status: 200\n",
      "\n",
      "Test: Test_at_minute_50\n",
      "  Time: 13:19:50 (minute 19, second 50)\n",
      "  Tokens: 1000\n",
      "  Status: 200\n",
      "\n",
      "ANALYSIS:\n",
      "----------------------------------------\n",
      "Total tokens consumed in quota exhaustion: 2000\n",
      "Test request results:\n",
      "  - Test_before_minute_end: THROTTLED\n",
      "  - Test_at_next_minute_05: SUCCESS\n",
      "  - Test_at_minute_50: SUCCESS\n",
      "\n",
      "CONCLUSION:\n",
      "----------------------------------------\n",
      "✓ TPM limits appear to be based on ABSOLUTE MINUTES\n",
      "  The quota reset at the start of a new clock minute\n"
     ]
    }
   ],
   "source": [
    "# Print comprehensive summary\n",
    "tester.print_summary()"
   ]
  },
  {
   "cell_type": "markdown",
   "metadata": {},
   "source": [
    "## Additional Analysis\n",
    "\n",
    "Based on the test results above:\n",
    "\n",
    "### If TPM limits are ABSOLUTE (clock-based):\n",
    "- Quota consumption at xx:35 fills the quota for that minute\n",
    "- Request before minute end (xx:45-59) should get 429\n",
    "- Request at yy:05 should get 200 (new minute, fresh quota)\n",
    "- Request at yy:50 should get 200\n",
    "\n",
    "### If TPM limits are RELATIVE (rolling window):\n",
    "- Quota consumption at xx:35 starts a 60-second window\n",
    "- Request before minute end should get 429\n",
    "- Request at yy:05 should get 429 (only 30 seconds passed)\n",
    "- Request at yy:50 should get 200 (>60 seconds passed)\n",
    "\n",
    "The key differentiator is the result at yy:05 seconds."
   ]
  }
 ],
 "metadata": {
  "kernelspec": {
   "display_name": ".venv",
   "language": "python",
   "name": "python3"
  },
  "language_info": {
   "codemirror_mode": {
    "name": "ipython",
    "version": 3
   },
   "file_extension": ".py",
   "mimetype": "text/x-python",
   "name": "python",
   "nbconvert_exporter": "python",
   "pygments_lexer": "ipython3",
   "version": "3.13.2"
  }
 },
 "nbformat": 4,
 "nbformat_minor": 4
}
